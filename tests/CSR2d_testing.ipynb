{
 "cells": [
  {
   "cell_type": "code",
   "execution_count": 40,
   "id": "b78a565f-be21-45dc-aeaa-f23fe619d343",
   "metadata": {},
   "outputs": [],
   "source": [
    "import h5py\n",
    "import numpy as np\n",
    "import matplotlib.pyplot as plt\n",
    "import scipy.constants as sc"
   ]
  },
  {
   "cell_type": "markdown",
   "id": "5cb0fa83-7952-4ee5-aeca-5bb5e119ffed",
   "metadata": {},
   "source": [
    "# Trajectories from TEUFEL tracking"
   ]
  },
  {
   "cell_type": "code",
   "execution_count": 19,
   "id": "086bfec2-72fc-40da-87a4-3f727e7c1e42",
   "metadata": {},
   "outputs": [],
   "source": [
    "FileName = \"/home/lehnertu/Programming/TEUFEL/csr2d_trajectory.hdf5\"\n",
    "hdf = h5py.File(FileName, \"r\")"
   ]
  },
  {
   "cell_type": "code",
   "execution_count": 20,
   "id": "30ff65ca-0476-4850-8b96-79b12339f0d4",
   "metadata": {},
   "outputs": [
    {
     "data": {
      "text/plain": [
       "<KeysViewHDF5 ['Trajectories']>"
      ]
     },
     "execution_count": 20,
     "metadata": {},
     "output_type": "execute_result"
    }
   ],
   "source": [
    "hdf.keys()"
   ]
  },
  {
   "cell_type": "code",
   "execution_count": 22,
   "id": "2a3b5cb0-8503-4399-8cf8-ce6f91ba7ecc",
   "metadata": {},
   "outputs": [
    {
     "data": {
      "text/plain": [
       "<HDF5 dataset \"Trajectories\": shape (1001, 1, 6), type \"<f8\">"
      ]
     },
     "execution_count": 22,
     "metadata": {},
     "output_type": "execute_result"
    }
   ],
   "source": [
    "dataset = hdf['Trajectories']\n",
    "dataset"
   ]
  },
  {
   "cell_type": "code",
   "execution_count": 23,
   "id": "24f56628-c44a-4b61-9694-2b063fa2886e",
   "metadata": {},
   "outputs": [
    {
     "data": {
      "text/plain": [
       "(1001, 6)"
      ]
     },
     "execution_count": 23,
     "metadata": {},
     "output_type": "execute_result"
    }
   ],
   "source": [
    "traj = np.array(dataset)[:,0,:]\n",
    "traj.shape"
   ]
  },
  {
   "cell_type": "code",
   "execution_count": 24,
   "id": "d24b4afd-b697-405c-b645-307270e12650",
   "metadata": {},
   "outputs": [],
   "source": [
    "hdf.close()"
   ]
  },
  {
   "cell_type": "code",
   "execution_count": 27,
   "id": "972f7843-7186-4261-a2d5-92aacc92c2e6",
   "metadata": {},
   "outputs": [
    {
     "data": {
      "image/png": "[encoded data removed]",
      "text/plain": [
       "<Figure size 640x480 with 1 Axes>"
      ]
     },
     "metadata": {},
     "output_type": "display_data"
    }
   ],
   "source": [
    "x = traj[:,0]\n",
    "z = traj[:,2]\n",
    "\n",
    "plt.plot(z,x)\n",
    "plt.xlabel('z [m]')\n",
    "plt.ylabel('x [m]')\n",
    "plt.show()"
   ]
  },
  {
   "cell_type": "code",
   "execution_count": 30,
   "id": "23656511-58af-4464-921c-c22c303d4627",
   "metadata": {},
   "outputs": [
    {
     "data": {
      "text/plain": [
       "array([ 2.92212919e-10,  0.00000000e+00, -1.22810846e-05, -4.00533919e-03,\n",
       "        0.00000000e+00,  9.78424497e+01])"
      ]
     },
     "execution_count": 30,
     "metadata": {},
     "output_type": "execute_result"
    }
   ],
   "source": [
    "traj[500]"
   ]
  },
  {
   "cell_type": "code",
   "execution_count": 31,
   "id": "831ceede-24a0-4da6-ba56-22851d82c902",
   "metadata": {},
   "outputs": [
    {
     "data": {
      "text/plain": [
       "array([3.51073806e-07, 0.00000000e+00, 4.58933072e-04, 1.49677153e-01,\n",
       "       0.00000000e+00, 9.78423353e+01])"
      ]
     },
     "execution_count": 31,
     "metadata": {},
     "output_type": "execute_result"
    }
   ],
   "source": [
    "traj[501]"
   ]
  },
  {
   "cell_type": "code",
   "execution_count": 49,
   "id": "64c4cb33-60c6-4a59-925c-7d6556bbae0a",
   "metadata": {},
   "outputs": [],
   "source": [
    "X0 = traj[500,0:3]\n",
    "X1 = traj[501,0:3]"
   ]
  },
  {
   "cell_type": "code",
   "execution_count": 36,
   "id": "1cf84b7c-7a68-408d-b4e1-235e52d411b6",
   "metadata": {},
   "outputs": [],
   "source": [
    "BG0 = traj[500,3:]\n",
    "BG1 = traj[501,3:]\n",
    "BG = 0.5*(BG0+BG1)"
   ]
  },
  {
   "cell_type": "code",
   "execution_count": 46,
   "id": "b5d00f2a-0fe6-4b36-996c-0f94d86d5669",
   "metadata": {},
   "outputs": [
    {
     "name": "stdout",
     "output_type": "stream",
     "text": [
      "97.84752975239775\n",
      "[7.44381660e-04 0.00000000e+00 9.99947498e-01]\n"
     ]
    }
   ],
   "source": [
    "Gamma = np.sqrt( np.dot(BG,BG) + 1.0)\n",
    "print(Gamma)\n",
    "Beta = BG/Gamma\n",
    "print(Beta)"
   ]
  },
  {
   "cell_type": "code",
   "execution_count": 45,
   "id": "c00c6da6-3b62-4607-9387-4a949449a070",
   "metadata": {},
   "outputs": [
    {
     "name": "stdout",
     "output_type": "stream",
     "text": [
      "dt = 1.57188e-12 s\n"
     ]
    }
   ],
   "source": [
    "R = 0.3\n",
    "L = R*np.pi/2\n",
    "t = L/sc.c\n",
    "dt = t / 1000\n",
    "print(f'dt = {dt:.6g} s')"
   ]
  },
  {
   "cell_type": "code",
   "execution_count": 51,
   "id": "e0ebe2f5-38d7-4f8d-bdde-0df7b65f8a10",
   "metadata": {},
   "outputs": [
    {
     "name": "stdout",
     "output_type": "stream",
     "text": [
      "[3.51073806e-07 0.00000000e+00 4.58933072e-04]\n",
      "[3.51073806e-07 0.00000000e+00 4.58933072e-04]\n"
     ]
    }
   ],
   "source": [
    "print(X0+Beta*sc.c*dt)\n",
    "print(X1)"
   ]
  },
  {
   "cell_type": "markdown",
   "id": "d4d3e5e7-200b-4f5c-9d10-2beb6fba0336",
   "metadata": {},
   "source": [
    "# Snapshot from TEUFEL tracking"
   ]
  },
  {
   "cell_type": "code",
   "execution_count": 159,
   "id": "e4c46c91-4d29-46fd-9a19-ef1fc47ed84a",
   "metadata": {},
   "outputs": [
    {
     "name": "stdout",
     "output_type": "stream",
     "text": [
      "<HDF5 file \"csr2d_snap_501.h5\" (mode r)>\n",
      "<KeysViewHDF5 ['ElMagField', 'ObservationPosition', 'ParticleCoordinates']>\n",
      "<HDF5 dataset \"ObservationPosition\": shape (101, 251, 3), type \"<f8\">\n",
      "Nx=101 Ny=251\n",
      "<HDF5 dataset \"ElMagField\": shape (101, 251, 6), type \"<f8\">\n",
      "<HDF5 dataset \"ParticleCoordinates\": shape (1, 6), type \"<f8\">\n",
      "Npart=1\n"
     ]
    }
   ],
   "source": [
    "FileName = \"/home/lehnertu/Programming/TEUFEL/csr2d_snap_501.h5\"\n",
    "\n",
    "# open the file\n",
    "hdf = h5py.File(FileName, \"r\")\n",
    "print(hdf)\n",
    "print(hdf.keys())\n",
    "# Get the groups\n",
    "pos_group = hdf['ObservationPosition']\n",
    "Nx = pos_group.attrs.get('Nx')\n",
    "Ny = pos_group.attrs.get('Ny')\n",
    "print(pos_group)\n",
    "print(\"Nx=%d Ny=%d\" % (Nx,Ny))\n",
    "field_group = hdf['ElMagField']\n",
    "print(field_group)\n",
    "par_group = hdf['ParticleCoordinates']\n",
    "N_par = par_group.attrs.get('N_particles')\n",
    "print(par_group)\n",
    "print(\"Npart=%d\" % N_par)\n",
    "# get the data\n",
    "pos = np.array(pos_group)\n",
    "A = np.array(field_group)\n",
    "coo = np.array(par_group)\n",
    "hdf.close()"
   ]
  },
  {
   "cell_type": "code",
   "execution_count": 160,
   "id": "7edbb1c8-e0b2-41df-aeaf-6dc137f828fb",
   "metadata": {},
   "outputs": [],
   "source": [
    "Ex = A[:,:,0]\n",
    "Ey = A[:,:,1]\n",
    "Ez = A[:,:,2]\n",
    "Bx = A[:,:,3]\n",
    "By = A[:,:,4]\n",
    "Bz = A[:,:,5]"
   ]
  },
  {
   "cell_type": "code",
   "execution_count": 161,
   "id": "2c32f858-41a7-46f8-b2e0-e98dec3b6301",
   "metadata": {},
   "outputs": [
    {
     "name": "stdout",
     "output_type": "stream",
     "text": [
      "[3.51073806e-07]\n",
      "[0.00045893]\n"
     ]
    }
   ],
   "source": [
    "x_part = coo[:,0]\n",
    "z_part = coo[:,2]\n",
    "print(x_part)\n",
    "print(z_part)"
   ]
  },
  {
   "cell_type": "code",
   "execution_count": 162,
   "id": "22c9fcc2-7298-4ca1-acef-3f3033b272ff",
   "metadata": {},
   "outputs": [
    {
     "name": "stdout",
     "output_type": "stream",
     "text": [
      "(101, 251, 3)\n",
      "-0.0025 0.0025\n",
      "-0.000625 0.000625\n"
     ]
    }
   ],
   "source": [
    "print(pos.shape)\n",
    "x = pos[:,:,0]\n",
    "print(np.min(x), np.max(x))\n",
    "z = pos[:,:,2]\n",
    "print(np.min(z), np.max(z))"
   ]
  },
  {
   "cell_type": "code",
   "execution_count": 163,
   "id": "5085a997-c419-42c3-8ed0-3b2e635261d8",
   "metadata": {},
   "outputs": [
    {
     "name": "stdout",
     "output_type": "stream",
     "text": [
      "365288165124.634\n"
     ]
    },
    {
     "data": {
      "image/png": "[encoded data removed]",
      "text/plain": [
       "<Figure size 640x480 with 2 Axes>"
      ]
     },
     "metadata": {},
     "output_type": "display_data"
    }
   ],
   "source": [
    "emax = np.max(np.abs(Ex))\n",
    "print(emax)\n",
    "emax = 1e9\n",
    "elevels = np.linspace(-emax, emax, num=21)\n",
    "\n",
    "img = plt.contourf(z,x,Ex,elevels,cmap='PRGn')\n",
    "cbar = plt.colorbar(img)\n",
    "cbar.set_label('$E_x$ [V/m]')\n",
    "plt.scatter(z_part,x_part,c='r',s=1)\n",
    "plt.show()"
   ]
  },
  {
   "cell_type": "code",
   "execution_count": 164,
   "id": "2747d80e-a74a-4dcf-adc8-21a32475c8d5",
   "metadata": {},
   "outputs": [
    {
     "data": {
      "image/png": "[encoded data removed]",
      "text/plain": [
       "<Figure size 1200x500 with 2 Axes>"
      ]
     },
     "metadata": {},
     "output_type": "display_data"
    }
   ],
   "source": [
    "emax = 1e9\n",
    "elevels = np.linspace(-emax, emax, num=21)\n",
    "\n",
    "fig, (ax1,ax2) = plt.subplots(nrows=1, ncols=2, figsize=(12,5))\n",
    "ax1.contourf(z,x,Ex,elevels,cmap='PRGn')\n",
    "ax1.set_xlabel('z [mm]')\n",
    "ax1.set_ylabel('x [mm]')\n",
    "ax1.scatter(z_part,x_part,c='r',s=5)\n",
    "ax1.set_title('$E_x$')\n",
    "ax2.contourf(z,x,Ez,elevels,cmap='PRGn')\n",
    "ax2.set_xlabel('z [mm]')\n",
    "ax2.set_ylabel('x [mm]')\n",
    "ax2.scatter(z_part,x_part,c='r',s=5)\n",
    "ax2.set_title('$E_z$')\n",
    "plt.show()"
   ]
  },
  {
   "cell_type": "code",
   "execution_count": null,
   "id": "db2ff998-7e02-4c42-93dd-0a1fd6fc663d",
   "metadata": {},
   "outputs": [],
   "source": []
  }
 ],
 "metadata": {
  "kernelspec": {
   "display_name": "Python 3 (ipykernel)",
   "language": "python",
   "name": "python3"
  },
  "language_info": {
   "codemirror_mode": {
    "name": "ipython",
    "version": 3
   },
   "file_extension": ".py",
   "mimetype": "text/x-python",
   "name": "python",
   "nbconvert_exporter": "python",
   "pygments_lexer": "ipython3",
   "version": "3.8.10"
  }
 },
 "nbformat": 4,
 "nbformat_minor": 5
}
