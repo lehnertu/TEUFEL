{
 "cells": [
  {
   "cell_type": "markdown",
   "metadata": {},
   "source": [
    "If not yet available some libraries and their python bindings have to be installed :<br>\n",
    "- gmsh (best installed globally through package management system)\n",
    "- python3 -m pip install pygmsh --user\n",
    "- VTK (best installed globally through package management system)\n",
    "- python3 -m pip install vtk --user"
   ]
  },
  {
   "cell_type": "code",
   "execution_count": 1,
   "metadata": {},
   "outputs": [],
   "source": [
    "import numpy as np\n",
    "from scipy import constants\n",
    "import pygmsh\n",
    "from MeshedFields import *"
   ]
  },
  {
   "cell_type": "markdown",
   "metadata": {},
   "source": [
    "# Create a meshed screen with a central hole"
   ]
  },
  {
   "cell_type": "markdown",
   "metadata": {},
   "source": [
    "The screen is rectangular (215*150 mm) with a 4mm central hole.<br>\n",
    "Typical cell size is 5 mm along the outside of the screen and 1.0 mm near the inner hole.<br>\n",
    "The wavelength is 0.3 mm only. That means we need about 0.02 mm resolution along the x/z axis.<br>\n",
    "When generating the geometry we stretch it by a factor 50 and undo that after creating the mesh,\n",
    "effectively generating cells that are denser along the the stretched direction."
   ]
  },
  {
   "cell_type": "code",
   "execution_count": 2,
   "metadata": {},
   "outputs": [],
   "source": [
    "with pygmsh.geo.Geometry() as geom:\n",
    "    \n",
    "    Lx = 0.215\n",
    "    Ly = 0.150\n",
    "    Ri = 0.002\n",
    "    lca = 0.005\n",
    "    lci = 0.001\n",
    "    stretch = 50.0\n",
    "\n",
    "    p1 = geom.add_point([Lx/2.0*stretch, Ly/2.0], lca)\n",
    "    p2 = geom.add_point([-Lx/2.0*stretch, Ly/2.0], lca)\n",
    "    p3 = geom.add_point([-Lx/2.0*stretch, -Ly/2.0], lca)\n",
    "    p4 = geom.add_point([Lx/2.0*stretch, -Ly/2.0], lca)\n",
    "    p1i = geom.add_point([Ri*stretch, 0.0], lci)\n",
    "    p2i = geom.add_point([0.0, Ri], lci)\n",
    "    p3i = geom.add_point([-Ri*stretch, 0.0], lci)\n",
    "    p4i = geom.add_point([0.0, -Ri], lci)\n",
    "    pc = geom.add_point([0.0, 0.0])\n",
    "    pa = geom.add_point([0.0, 0.01])\n",
    "\n",
    "    # the mesh is circumscribed with a polygon\n",
    "    l1 = geom.add_line(p1, p2)\n",
    "    l2 = geom.add_line(p2, p3)\n",
    "    l3 = geom.add_line(p3, p4)\n",
    "    l4 = geom.add_line(p4, p1)\n",
    "    outline = geom.add_curve_loop([l1, l2, l3, l4])\n",
    "\n",
    "    # the hole is circumscribed with four elliptic arcs\n",
    "    e1i = geom.add_ellipse_arc(start=p1i, center=pc, point_on_major_axis=pa, end=p2i)\n",
    "    e2i = geom.add_ellipse_arc(start=p2i, center=pc, point_on_major_axis=pa, end=p3i)\n",
    "    e3i = geom.add_ellipse_arc(start=p3i, center=pc, point_on_major_axis=pa, end=p4i)\n",
    "    e4i = geom.add_ellipse_arc(start=p4i, center=pc, point_on_major_axis=pa, end=p1i)\n",
    "    hole = geom.add_curve_loop([e1i,e2i,e3i,e4i])\n",
    "\n",
    "    pl = geom.add_plane_surface(outline, holes=[hole])\n",
    "    \n",
    "    mesh = geom.generate_mesh()"
   ]
  },
  {
   "cell_type": "code",
   "execution_count": 3,
   "metadata": {},
   "outputs": [
    {
     "data": {
      "text/plain": [
       "<meshio mesh object>\n",
       "  Number of points: 85036\n",
       "  Number of cells:\n",
       "    line: 4764\n",
       "    triangle: 165304\n",
       "    vertex: 10"
      ]
     },
     "execution_count": 3,
     "metadata": {},
     "output_type": "execute_result"
    }
   ],
   "source": [
    "mesh"
   ]
  },
  {
   "cell_type": "code",
   "execution_count": 4,
   "metadata": {},
   "outputs": [],
   "source": [
    "# un-stretch\n",
    "pts = np.array([np.array([p[0]/stretch,p[1],0.0]) for p in mesh.points])\n",
    "tris = mesh.cells_dict['triangle']"
   ]
  },
  {
   "cell_type": "markdown",
   "metadata": {},
   "source": [
    "The z-position of all mesh points is computed to lay on a toroid with 1.625 m focal length.<br>\n",
    "The radius of curvature in the plane is 2 f, out of plane f.<br>\n",
    "The elevation in z direction is computed for x and y positions independently, assuming the size of the mirror being small in comparison to its focal length."
   ]
  },
  {
   "cell_type": "code",
   "execution_count": 5,
   "metadata": {},
   "outputs": [],
   "source": [
    "def ToroidZ(x,y,f):\n",
    "    # return f-math.sqrt(f*f-y*y) + 2*f-math.sqrt(4*f*f-x*x)\n",
    "    return math.sqrt( math.pow(math.sqrt(f*f-y*y)+f,2) -x*x ) - 2*f\n",
    "pts = np.array([np.array([p[0],p[1],ToroidZ(p[0],p[1],1.625)]) for p in pts])"
   ]
  },
  {
   "cell_type": "code",
   "execution_count": 6,
   "metadata": {},
   "outputs": [
    {
     "name": "stdout",
     "output_type": "stream",
     "text": [
      "85036 points\n",
      "165304 triangles\n",
      "total mesh area = 322.558 cm²\n",
      "screen normal = [ 5.94418597e-05 -4.01710693e-05 -9.99464687e-01]\n"
     ]
    }
   ],
   "source": [
    "screen = MeshedField(pts,tris)\n",
    "print(\"%d points\" % len(screen.points))\n",
    "print(\"%d triangles\" % len(screen.triangles))\n",
    "area = screen.MeshArea()\n",
    "normals = screen.MeshNormals()\n",
    "average = np.sum(normals, axis=0)/screen.Np\n",
    "print(\"total mesh area = %7.3f cm²\" % (1.0e4*np.sum(area)))\n",
    "print(\"screen normal = %s\" % average)"
   ]
  },
  {
   "cell_type": "code",
   "execution_count": 7,
   "metadata": {},
   "outputs": [],
   "source": [
    "screen.ShowMeshedField(showAxes=True)"
   ]
  },
  {
   "cell_type": "markdown",
   "metadata": {},
   "source": [
    "The screen is placed at z=3.625 m from th origin. A beam is assumed to propagate in z direction\n",
    "The fields shall be reflected to th x direction. The screen normal is pointing in the negative z and positive x direction (x - left, y - up). To achieve that the screen has to be rotated by 45 degrees about the y axis."
   ]
  },
  {
   "cell_type": "code",
   "execution_count": 8,
   "metadata": {},
   "outputs": [],
   "source": [
    "def RotXZ(φ):\n",
    "    return np.array([[np.cos(φ),0,-np.sin(φ)],[0,1,0],[np.sin(φ),0,np.cos(φ)]])\n",
    "RR = RotXZ(45.0/180.0*math.pi)\n",
    "pts = np.array([np.dot(RR,p) for p in pts])"
   ]
  },
  {
   "cell_type": "code",
   "execution_count": 9,
   "metadata": {},
   "outputs": [
    {
     "name": "stdout",
     "output_type": "stream",
     "text": [
      "85036 points\n",
      "165304 triangles\n",
      "total mesh area = 322.558 cm²\n",
      "screen normal = [ 7.06770290e-01 -4.01710693e-05 -7.06686226e-01]\n"
     ]
    }
   ],
   "source": [
    "screen = MeshedField(pts,tris)\n",
    "print(\"%d points\" % len(screen.points))\n",
    "print(\"%d triangles\" % len(screen.triangles))\n",
    "area = screen.MeshArea()\n",
    "normals = screen.MeshNormals()\n",
    "average = np.sum(normals, axis=0)/screen.Np\n",
    "print(\"total mesh area = %7.3f cm²\" % (1.0e4*np.sum(area)))\n",
    "print(\"screen normal = %s\" % average)"
   ]
  },
  {
   "cell_type": "code",
   "execution_count": 10,
   "metadata": {},
   "outputs": [],
   "source": [
    "screen.ShowMeshedField(showAxes=True)"
   ]
  },
  {
   "cell_type": "code",
   "execution_count": 11,
   "metadata": {},
   "outputs": [],
   "source": [
    "pts = np.array([p+np.array([0.0,0.0,3.625]) for p in pts])\n",
    "screen = MeshedField(pts,tris)"
   ]
  },
  {
   "cell_type": "code",
   "execution_count": 12,
   "metadata": {},
   "outputs": [],
   "source": [
    "screen.ShowMeshedField(showAxes=True)"
   ]
  },
  {
   "cell_type": "markdown",
   "metadata": {},
   "source": [
    "### define the timing\n",
    "\n",
    "The beam is assumed to start at t=0. The fields are propagating with c so the expected time a signal arrives at some screen point is z/c.\n"
   ]
  },
  {
   "cell_type": "code",
   "execution_count": 13,
   "metadata": {},
   "outputs": [],
   "source": [
    "# time step\n",
    "screen.dt = 0.5e-13\n",
    "# some time shift of the waveform start\n",
    "delay = 15.0e-12\n",
    "# all points use the same timing grid\n",
    "screen.Nt = 800\n",
    "screen.t0 = np.array([p[2]/constants.c-screen.Nt/2*screen.dt+delay for p in screen.pos])"
   ]
  },
  {
   "cell_type": "code",
   "execution_count": 14,
   "metadata": {},
   "outputs": [
    {
     "name": "stdout",
     "output_type": "stream",
     "text": [
      "not writing ElMagField dataset\n"
     ]
    }
   ],
   "source": [
    "filename=\"OL8_ToroidalMirrorWithHole.h5\"\n",
    "screen.WriteMeshedField(filename)"
   ]
  },
  {
   "cell_type": "code",
   "execution_count": null,
   "metadata": {},
   "outputs": [],
   "source": []
  }
 ],
 "metadata": {
  "kernelspec": {
   "display_name": "Python 3",
   "language": "python",
   "name": "python3"
  },
  "language_info": {
   "codemirror_mode": {
    "name": "ipython",
    "version": 3
   },
   "file_extension": ".py",
   "mimetype": "text/x-python",
   "name": "python",
   "nbconvert_exporter": "python",
   "pygments_lexer": "ipython3",
   "version": "3.8.10"
  }
 },
 "nbformat": 4,
 "nbformat_minor": 2
}
