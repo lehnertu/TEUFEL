{
 "cells": [
  {
   "cell_type": "markdown",
   "metadata": {},
   "source": [
    "If not yet available some libraries and their python bindings have to be installed :<br>\n",
    "- gmsh (best installed globally through package management system)\n",
    "- python3 -m pip install pygmsh --user\n",
    "- VTK (best installed globally through package management system)\n",
    "- python3 -m pip install vtk --user"
   ]
  },
  {
   "cell_type": "code",
   "execution_count": 26,
   "metadata": {},
   "outputs": [],
   "source": [
    "import numpy as np\n",
    "from scipy import constants\n",
    "import scipy.integrate\n",
    "import scipy.special as func\n",
    "from MeshedFields import *"
   ]
  },
  {
   "cell_type": "markdown",
   "metadata": {},
   "source": [
    "# Create a meshed screen with a central hole"
   ]
  },
  {
   "cell_type": "code",
   "execution_count": 2,
   "metadata": {},
   "outputs": [],
   "source": [
    "import pygmsh\n",
    "\n",
    "Ra = 0.020\n",
    "Ri = 0.002\n",
    "lca = 0.002\n",
    "lci = 0.0002\n",
    "\n",
    "geom = pygmsh.built_in.Geometry()\n",
    "# we create the initial geometry as a streched ellipse to create\n",
    "# different scaling lengths (cell sizes) along the different axes\n",
    "p1 = geom.add_point([Ra, 0.0, 0.0], lcar=lca)\n",
    "p2 = geom.add_point([0.0, Ra, 0.0], lcar=lca)\n",
    "p3 = geom.add_point([-Ra, 0.0, 0.0], lcar=lca)\n",
    "p4 = geom.add_point([0.0, -Ra, 0.0], lcar=lca)\n",
    "p1i = geom.add_point([Ri, 0.0, 0.0], lcar=lci)\n",
    "p2i = geom.add_point([0.0, Ri, 0.0], lcar=lci)\n",
    "p3i = geom.add_point([-Ri, 0.0, 0.0], lcar=lci)\n",
    "p4i = geom.add_point([0.0, -Ri, 0.0], lcar=lci)\n",
    "pc = geom.add_point([0.0, 0.0, 0.0])\n",
    "pa = geom.add_point([1.0, 0.0, 0.0])\n",
    "# the mesh is circumscribed with four elliptic arcs\n",
    "e1 = geom.add_ellipse_arc(start=p1, center=pc, point_on_major_axis=pa, end=p2)\n",
    "e2 = geom.add_ellipse_arc(start=p2, center=pc, point_on_major_axis=pa, end=p3)\n",
    "e3 = geom.add_ellipse_arc(start=p3, center=pc, point_on_major_axis=pa, end=p4)\n",
    "e4 = geom.add_ellipse_arc(start=p4, center=pc, point_on_major_axis=pa, end=p1)\n",
    "# the hole is circumscribed with four elliptic arcs\n",
    "e1i = geom.add_ellipse_arc(start=p1i, center=pc, point_on_major_axis=pa, end=p2i)\n",
    "e2i = geom.add_ellipse_arc(start=p2i, center=pc, point_on_major_axis=pa, end=p3i)\n",
    "e3i = geom.add_ellipse_arc(start=p3i, center=pc, point_on_major_axis=pa, end=p4i)\n",
    "e4i = geom.add_ellipse_arc(start=p4i, center=pc, point_on_major_axis=pa, end=p1i)\n",
    "# these are combined into a line loop\n",
    "hole = geom.add_line_loop([e1i,e2i,e3i,e4i])\n",
    "outline = geom.add_line_loop([e1,e2,e3,e4])\n",
    "geom.add_plane_surface(outline,holes=[hole])\n",
    "# now we can create the mesh\n",
    "mesh = pygmsh.generate_mesh(geom, dim=2, verbose=False)\n",
    "tris = mesh.cells['triangle']\n",
    "screen = MeshedField(mesh.points,tris)"
   ]
  },
  {
   "cell_type": "markdown",
   "metadata": {},
   "source": [
    "The screen is placed at the origin. A beam is assumed to propagate in z direction<br>\n",
    "The screen normal is pointing in the negative z direction."
   ]
  },
  {
   "cell_type": "code",
   "execution_count": 3,
   "metadata": {},
   "outputs": [
    {
     "name": "stdout",
     "output_type": "stream",
     "text": [
      "1626 points\n",
      "3120 triangles\n",
      "total mesh area =  12.421 cm²\n",
      "screen normal = [ 0.  0. -1.]\n"
     ]
    }
   ],
   "source": [
    "print(\"%d points\" % len(screen.points))\n",
    "print(\"%d triangles\" % len(screen.triangles))\n",
    "area = screen.MeshArea()\n",
    "normals = screen.MeshNormals()\n",
    "average = np.sum(normals, axis=0)/screen.Np\n",
    "print(\"total mesh area = %7.3f cm²\" % (1.0e4*np.sum(area)))\n",
    "print(\"screen normal = %s\" % average)"
   ]
  },
  {
   "cell_type": "code",
   "execution_count": 4,
   "metadata": {},
   "outputs": [],
   "source": [
    "screen.ShowMeshedField(showAxes=True)"
   ]
  },
  {
   "cell_type": "markdown",
   "metadata": {},
   "source": [
    "### define the timing\n",
    "The beam is assumed to start such that it passes the screen at t=0."
   ]
  },
  {
   "cell_type": "code",
   "execution_count": 5,
   "metadata": {},
   "outputs": [],
   "source": [
    "# time step\n",
    "screen.dt = 2.0e-13\n",
    "# all points use the same timing grid\n",
    "screen.Nt = 500\n",
    "screen.t0 = np.ones(screen.Np)*(-screen.Nt//2*screen.dt)"
   ]
  },
  {
   "cell_type": "markdown",
   "metadata": {},
   "source": [
    "### Write the file\n",
    "It is assumed that the script was started from the scripts directory. The file should be created in the tests folder."
   ]
  },
  {
   "cell_type": "code",
   "execution_count": 6,
   "metadata": {},
   "outputs": [
    {
     "name": "stdout",
     "output_type": "stream",
     "text": [
      "not writing ElMagField dataset\n"
     ]
    }
   ],
   "source": [
    "filename=\"../tests/DiffractionScreen.h5\"\n",
    "screen.WriteMeshedField(filename)"
   ]
  },
  {
   "cell_type": "markdown",
   "metadata": {},
   "source": [
    "### Check the file after running the test"
   ]
  },
  {
   "cell_type": "code",
   "execution_count": 58,
   "metadata": {},
   "outputs": [
    {
     "name": "stdout",
     "output_type": "stream",
     "text": [
      "corner points :  (1626, 3)\n",
      "triangles :  (3120, 3)\n",
      "Nt = 500   dt = 2e-13 \n",
      "t0 :  (3120,)\n",
      "field :  (3120, 500, 6)\n",
      "1626 points\n",
      "3120 triangles\n",
      "total mesh area =  12.421 cm²\n",
      "screen normal = [ 0.  0. -1.]\n"
     ]
    }
   ],
   "source": [
    "filename = \"../tests/DiffractionScreenWithFields.h5\"\n",
    "computed = MeshedField.ReadMeshedField(filename)\n",
    "\n",
    "print(\"%d points\" % len(computed.points))\n",
    "print(\"%d triangles\" % len(computed.triangles))\n",
    "area = computed.MeshArea()\n",
    "normals = computed.MeshNormals()\n",
    "average = np.sum(normals, axis=0)/computed.Np\n",
    "print(\"total mesh area = %7.3f cm²\" % (1.0e4*np.sum(area)))\n",
    "print(\"screen normal = %s\" % average)"
   ]
  },
  {
   "cell_type": "code",
   "execution_count": 59,
   "metadata": {},
   "outputs": [
    {
     "name": "stdout",
     "output_type": "stream",
     "text": [
      "peak energy density = 0.019487 J/m²  index=2765\n",
      "total pulse energy = 0.471 µJ\n"
     ]
    }
   ],
   "source": [
    "area = computed.MeshArea()\n",
    "S = [np.linalg.norm(computed.EnergyFlowVector(i)) for i in range(computed.Np)]\n",
    "peak_index = np.argmax(S)\n",
    "Pz = [computed.NormalEnergyFlow(i) for i in range(computed.Np)]\n",
    "\n",
    "print(\"peak energy density = %.6f J/m²  index=%d\" % (S[peak_index],peak_index))\n",
    "print(\"total pulse energy = %.3f µJ\" % (1e6*np.dot(area,Pz)))"
   ]
  },
  {
   "cell_type": "code",
   "execution_count": 36,
   "metadata": {},
   "outputs": [
    {
     "data": {
      "image/png": "[encoded data removed]",
      "text/plain": [
       "<matplotlib.figure.Figure at 0x7f181b6aac88>"
      ]
     },
     "metadata": {
      "needs_background": "light"
     },
     "output_type": "display_data"
    }
   ],
   "source": [
    "computed.ShowMeshedField(scalars=Pz,scalarTitle=\"Pz\",highlight=[peak_index],showGrid=True)\n",
    "computed.ShowFieldTrace(peak_index)"
   ]
  },
  {
   "cell_type": "code",
   "execution_count": 37,
   "metadata": {},
   "outputs": [
    {
     "name": "stdout",
     "output_type": "stream",
     "text": [
      "cell No. 1670 pos=[ 0.00049878  0.01748992  0.        ]\n",
      "pointing vector S=[  1.41626690e-10   4.96617747e-09   1.55732651e-04]\n"
     ]
    },
    {
     "data": {
      "image/png": "[encoded data removed]",
      "text/plain": [
       "<matplotlib.figure.Figure at 0x7f181b5e7c50>"
      ]
     },
     "metadata": {
      "needs_background": "light"
     },
     "output_type": "display_data"
    }
   ],
   "source": [
    "def pick(id):\n",
    "    if id>0 and id<computed.Np:\n",
    "        print(\"cell No. %d pos=%s\" % (id,computed.pos[id]))\n",
    "        print(\"pointing vector S=%s\" % computed.EnergyFlowVector(id))\n",
    "        computed.ShowFieldTrace(id)\n",
    "\n",
    "computed.ShowMeshedField(scalars=Pz,scalarTitle=\"Pz\",pickAction=pick,showGrid=False)"
   ]
  },
  {
   "cell_type": "code",
   "execution_count": 16,
   "metadata": {},
   "outputs": [],
   "source": [
    "t = 3.34e-9\n",
    "fields = computed.FieldsAtTime(t)\n",
    "Ex = [f[0] for f in fields]\n",
    "Ey = [f[1] for f in fields]\n",
    "computed.ShowMeshedField(scalars=Ey,scalarTitle=\"Ey\",showGrid=False,lut=phaseLUT())"
   ]
  },
  {
   "cell_type": "markdown",
   "metadata": {},
   "source": [
    "### spectral distribution"
   ]
  },
  {
   "cell_type": "markdown",
   "metadata": {},
   "source": [
    "### theory\n",
    "Casalbuoni, Schmidt, Schmüser : TESLA Report 2005-15 : Fig.12"
   ]
  },
  {
   "cell_type": "code",
   "execution_count": 76,
   "metadata": {},
   "outputs": [
    {
     "name": "stdout",
     "output_type": "stream",
     "text": [
      "total pulse energy (100pC) = 4.62938e-07 µJ\n"
     ]
    }
   ],
   "source": [
    "Q = 100.0e-12\n",
    "N_e = Q / constants.e\n",
    "N_e_sq = N_e * N_e\n",
    "γ = 20\n",
    "β = np.sqrt(1-1/(γ*γ))\n",
    "\n",
    "ugf_0 = np.power(constants.e,2) /( 4*np.power(np.pi,3)*constants.epsilon_0*constants.c)\n",
    "def d2Ugf(β,Θ):\n",
    "    return ugf_0 * (np.power(β,2)*np.power(np.sin(Θ),2))/np.power(1-np.power(β,2)*np.power(np.cos(Θ),2),2)\n",
    "def T(ω,Θ,a):\n",
    "    arg1 = ω*a/(β*γ*constants.c)\n",
    "    arg2 = ω*a*np.sin(Θ)/constants.c\n",
    "    arg3 = ω*a/(constants.c*np.power(β*γ,2)*np.sin(Θ))\n",
    "    return arg1*func.j0(arg2)*func.k1(arg1)+arg3*func.j1(arg2)*func.k0(arg1)\n",
    "def TT(ω,Θ,a1,a2):\n",
    "    return np.square(T(ω,Θ,a1)-T(ω,Θ,a2))\n",
    "\n",
    "def angular_integral(ω_i,r_i,r_a):\n",
    "    def dUdωdΘ(Θ):\n",
    "        return d2Ugf(β,Θ)*2*np.pi*np.sin(Θ)\n",
    "    def spect_integrand(Θ):\n",
    "        return dUdωdΘ(Θ)*TT(ω_i,Θ,r_i,r_a)\n",
    "    integral = scipy.integrate.quadrature(spect_integrand,0,np.pi/2,tol=1e-40,rtol=1e-6,miniter=20,maxiter=400)\n",
    "    return integral[0]\n",
    "\n",
    "f_th = np.power(10.0,np.linspace(-2.0,1.0,300))\n",
    "th1 = np.array([angular_integral(2*np.pi*f*1e12,0.002,0.030) for f in f_th])*2*np.pi*1e9\n",
    "E_opt = 1000*N_e_sq * scipy.integrate.trapz(th1,f_th)\n",
    "print(\"total pulse energy (100pC) = %g µJ\" % E_opt)"
   ]
  },
  {
   "cell_type": "code",
   "execution_count": 77,
   "metadata": {},
   "outputs": [
    {
     "name": "stdout",
     "output_type": "stream",
     "text": [
      "total pulse energy = 0.471997 µJ\n"
     ]
    },
    {
     "data": {
      "image/png": "[encoded data removed]",
      "text/plain": [
       "<matplotlib.figure.Figure at 0x7f181b6c7588>"
      ]
     },
     "metadata": {
      "needs_background": "light"
     },
     "output_type": "display_data"
    }
   ],
   "source": [
    "nele = Q/constants.e\n",
    "\n",
    "nots = computed.Nt\n",
    "nf = nots\n",
    "dt = computed.dt\n",
    "df = 1.0/dt/nf\n",
    "fmax = 1.0/dt\n",
    "\n",
    "f = np.linspace(0.0,fmax,nf)[:nots//2]\n",
    "spectrum = np.zeros(nots//2)\n",
    "\n",
    "for index in range(computed.Np):\n",
    "    trace = computed.A[index]\n",
    "    data = trace.transpose()\n",
    "    Ex = data[0]\n",
    "    Ey = data[1]\n",
    "    Ez = data[2]\n",
    "    Bx = data[3]\n",
    "    By = data[4]\n",
    "    Bz = data[5]\n",
    "    spectEx = np.fft.fft(Ex)[:nots//2]\n",
    "    spectEy = np.fft.fft(Ey)[:nots//2]\n",
    "    spectEz = np.fft.fft(Ez)[:nots//2]\n",
    "    spectBx = np.fft.fft(Bx)[:nots//2]\n",
    "    spectBy = np.fft.fft(By)[:nots//2]\n",
    "    spectBz = np.fft.fft(Bz)[:nots//2]\n",
    "    amp = np.real(spectEx*np.conj(spectBy)-spectEy*np.conj(spectBx))/constants.mu_0*2*dt/(df*nf)\n",
    "    spectrum += amp*area[index]\n",
    "\n",
    "E_opt = scipy.integrate.trapz(spectrum,f)\n",
    "print(\"total pulse energy = %g µJ\" % (1e6*E_opt))\n",
    "\n",
    "plt.rcParams[\"figure.figsize\"] = (12,8)\n",
    "plt.rcParams[\"font.family\"] = 'serif'\n",
    "plt.rcParams[\"font.size\"] = 20\n",
    "plt.rcParams['axes.labelsize'] = 'large'\n",
    "fig, ax = plt.subplots()\n",
    "ax.semilogx(1e-12*f,1e9*spectrum/(nele*nele)/constants.e,marker='.',markersize=10.0,linestyle='None')\n",
    "ax.semilogx(f_th,th1/constants.e)\n",
    "ax.set_xlabel('f [THz]')\n",
    "ax.set_ylabel('dW/dω [eV/GHz]')\n",
    "ax.grid()"
   ]
  },
  {
   "cell_type": "code",
   "execution_count": null,
   "metadata": {},
   "outputs": [],
   "source": []
  }
 ],
 "metadata": {
  "kernelspec": {
   "display_name": "Python 3",
   "language": "python",
   "name": "python3"
  },
  "language_info": {
   "codemirror_mode": {
    "name": "ipython",
    "version": 3
   },
   "file_extension": ".py",
   "mimetype": "text/x-python",
   "name": "python",
   "nbconvert_exporter": "python",
   "pygments_lexer": "ipython3",
   "version": "3.5.3"
  }
 },
 "nbformat": 4,
 "nbformat_minor": 2
}
