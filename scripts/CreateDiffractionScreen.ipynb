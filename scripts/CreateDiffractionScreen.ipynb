{
 "cells": [
  {
   "cell_type": "markdown",
   "metadata": {},
   "source": [
    "If not yet available some libraries and their python bindings have to be installed :<br>\n",
    "- gmsh (best installed globally through package management system)\n",
    "- python3 -m pip install pygmsh --user\n",
    "- VTK (best installed globally through package management system)\n",
    "- python3 -m pip install vtk --user"
   ]
  },
  {
   "cell_type": "code",
   "execution_count": 1,
   "metadata": {},
   "outputs": [],
   "source": [
    "import numpy as np\n",
    "from scipy import constants\n",
    "from MeshedFields import *"
   ]
  },
  {
   "cell_type": "markdown",
   "metadata": {},
   "source": [
    "# Create a meshed screen with a central hole"
   ]
  },
  {
   "cell_type": "code",
   "execution_count": 2,
   "metadata": {},
   "outputs": [],
   "source": [
    "import pygmsh\n",
    "\n",
    "Ra = 0.030\n",
    "Ri = 0.002\n",
    "lca = 0.002\n",
    "lci = 0.0004\n",
    "stretch = 5\n",
    "\n",
    "geom = pygmsh.built_in.Geometry()\n",
    "# we create the initial geometry as a streched ellipse to create\n",
    "# different scaling lengths (cell sizes) along the different axes\n",
    "p1 = geom.add_point([Ra*stretch, 0.0, 0.0], lcar=lca)\n",
    "p2 = geom.add_point([0.0, Ra, 0.0], lcar=lca)\n",
    "p3 = geom.add_point([-Ra*stretch, 0.0, 0.0], lcar=lca)\n",
    "p4 = geom.add_point([0.0, -Ra, 0.0], lcar=lca)\n",
    "p1i = geom.add_point([Ri*stretch, 0.0, 0.0], lcar=lci)\n",
    "p2i = geom.add_point([0.0, Ri, 0.0], lcar=lci)\n",
    "p3i = geom.add_point([-Ri*stretch, 0.0, 0.0], lcar=lci)\n",
    "p4i = geom.add_point([0.0, -Ri, 0.0], lcar=lci)\n",
    "pc = geom.add_point([0.0, 0.0, 0.0])\n",
    "pa = geom.add_point([1.0, 0.0, 0.0])\n",
    "# the mesh is circumscribed with four elliptic arcs\n",
    "e1 = geom.add_ellipse_arc(start=p1, center=pc, point_on_major_axis=pa, end=p2)\n",
    "e2 = geom.add_ellipse_arc(start=p2, center=pc, point_on_major_axis=pa, end=p3)\n",
    "e3 = geom.add_ellipse_arc(start=p3, center=pc, point_on_major_axis=pa, end=p4)\n",
    "e4 = geom.add_ellipse_arc(start=p4, center=pc, point_on_major_axis=pa, end=p1)\n",
    "# the hole is circumscribed with four elliptic arcs\n",
    "e1i = geom.add_ellipse_arc(start=p1i, center=pc, point_on_major_axis=pa, end=p2i)\n",
    "e2i = geom.add_ellipse_arc(start=p2i, center=pc, point_on_major_axis=pa, end=p3i)\n",
    "e3i = geom.add_ellipse_arc(start=p3i, center=pc, point_on_major_axis=pa, end=p4i)\n",
    "e4i = geom.add_ellipse_arc(start=p4i, center=pc, point_on_major_axis=pa, end=p1i)\n",
    "# these are combined into a line loop\n",
    "hole = geom.add_line_loop([e1i,e2i,e3i,e4i])\n",
    "outline = geom.add_line_loop([e1,e2,e3,e4])\n",
    "geom.add_plane_surface(outline,holes=[hole])\n",
    "# now we can create the mesh\n",
    "mesh = pygmsh.generate_mesh(geom, dim=2, verbose=False)\n",
    "# we squeeze the ellipse back to a circle\n",
    "# angle it\n",
    "# and move the screen to its intended position\n",
    "d = np.array([0.0,0.0,1.0])\n",
    "pts = [np.array([p[0]/stretch,p[1],p[0]/stretch])+d for p in mesh.points ]\n",
    "tris = mesh.cells['triangle']\n",
    "screen = MeshedField(pts,tris)"
   ]
  },
  {
   "cell_type": "markdown",
   "metadata": {},
   "source": [
    "The screen is placed at z=1m from th origin. A beam is assumed to propagate in z direction<br>\n",
    "The fields shall be reflected to th x direction. The screen normal is pointing in the negative z and positive x direction (x - left, y - up)."
   ]
  },
  {
   "cell_type": "code",
   "execution_count": 3,
   "metadata": {},
   "outputs": [
    {
     "name": "stdout",
     "output_type": "stream",
     "text": [
      "7572 points\n",
      "14716 triangles\n",
      "total mesh area =  39.803 cm²\n",
      "screen normal = [  7.07106781e-01  -1.95675363e-16  -7.07106781e-01]\n"
     ]
    }
   ],
   "source": [
    "print(\"%d points\" % len(screen.points))\n",
    "print(\"%d triangles\" % len(screen.triangles))\n",
    "area = screen.MeshArea()\n",
    "normals = screen.MeshNormals()\n",
    "average = np.sum(normals, axis=0)/screen.Np\n",
    "print(\"total mesh area = %7.3f cm²\" % (1.0e4*np.sum(area)))\n",
    "print(\"screen normal = %s\" % average)\n",
    "screen.ShowMeshedField(showAxes=True)"
   ]
  },
  {
   "cell_type": "markdown",
   "metadata": {},
   "source": [
    "### define the timing\n",
    "The beam is assumed to start at t=0. The fields are propagating with c so the expected time a\n",
    "signal arrives at some screen point is z/c."
   ]
  },
  {
   "cell_type": "code",
   "execution_count": 4,
   "metadata": {},
   "outputs": [],
   "source": [
    "# time step\n",
    "screen.dt = 1.0e-13\n",
    "# all points use the same timing grid\n",
    "screen.Nt = 400\n",
    "screen.t0 = np.array([p[2]/constants.c-screen.Nt/2*screen.dt for p in screen.pos])"
   ]
  },
  {
   "cell_type": "markdown",
   "metadata": {},
   "source": [
    "### Write the file\n",
    "It is assumed that the script was started from the scripts directory. The file should be created in the tests folder."
   ]
  },
  {
   "cell_type": "code",
   "execution_count": 5,
   "metadata": {},
   "outputs": [],
   "source": [
    "filename=\"../tests/DiffractionScreen.h5\"\n",
    "screen.WriteMeshedField(filename)"
   ]
  },
  {
   "cell_type": "code",
   "execution_count": null,
   "metadata": {},
   "outputs": [],
   "source": []
  }
 ],
 "metadata": {
  "kernelspec": {
   "display_name": "Python 3",
   "language": "python",
   "name": "python3"
  },
  "language_info": {
   "codemirror_mode": {
    "name": "ipython",
    "version": 3
   },
   "file_extension": ".py",
   "mimetype": "text/x-python",
   "name": "python",
   "nbconvert_exporter": "python",
   "pygments_lexer": "ipython3",
   "version": "3.5.3"
  }
 },
 "nbformat": 4,
 "nbformat_minor": 2
}
