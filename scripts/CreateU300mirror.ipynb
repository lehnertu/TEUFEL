{
 "cells": [
  {
   "cell_type": "markdown",
   "metadata": {},
   "source": [
    "If not yet available some libraries and their python bindings have to be installed :<br>\n",
    "- gmsh (best installed globally through package management system)\n",
    "- python3 -m pip install pygmsh --user\n",
    "- VTK (best installed globally through package management system)\n",
    "- python3 -m pip install vtk --user"
   ]
  },
  {
   "cell_type": "code",
   "execution_count": 1,
   "metadata": {},
   "outputs": [],
   "source": [
    "import numpy as np\n",
    "from scipy import constants\n",
    "import pygmsh\n",
    "from MeshedFields import *"
   ]
  },
  {
   "cell_type": "markdown",
   "metadata": {},
   "source": [
    "# Create a meshed screen with a central hole"
   ]
  },
  {
   "cell_type": "markdown",
   "metadata": {},
   "source": [
    "Typical cell size is 2 mm along the outside of the screen and 0.5 mm near the inner hole.<br>\n",
    "The wavelength is 0.3 mm only. That means we need a 0.02 mm resolution along the x/z axis.<br>\n",
    "When generating the geometry we stretch it by a factor 20 and undo thatafter creating the mesh,\n",
    "effectively generating cells that are denser along the the stretched direction."
   ]
  },
  {
   "cell_type": "code",
   "execution_count": 2,
   "metadata": {},
   "outputs": [],
   "source": [
    "with pygmsh.geo.Geometry() as geom:\n",
    "    \n",
    "    Ra = 0.050\n",
    "    Ri = 0.002\n",
    "    lca = 0.002\n",
    "    lci = 0.0005\n",
    "    stretch = 20.0\n",
    "\n",
    "    # we create the initial geometry as a streched ellipse to create\n",
    "    # different scaling lengths (cell sizes) along the different axes\n",
    "    p1 = geom.add_point([Ra*stretch, 0.0], lca)\n",
    "    p2 = geom.add_point([0.0, Ra], lca)\n",
    "    p3 = geom.add_point([-Ra*stretch, 0.0], lca)\n",
    "    p4 = geom.add_point([0.0, -Ra], lca)\n",
    "    p1i = geom.add_point([Ri*stretch, 0.0], lci)\n",
    "    p2i = geom.add_point([0.0, Ri], lci)\n",
    "    p3i = geom.add_point([-Ri*stretch, 0.0], lci)\n",
    "    p4i = geom.add_point([0.0, -Ri], lci)\n",
    "    pc = geom.add_point([0.0, 0.0])\n",
    "    pa = geom.add_point([0.0, 1.0])\n",
    "\n",
    "    # the mesh is circumscribed with four elliptic arcs\n",
    "    e1 = geom.add_ellipse_arc(start=p1, center=pc, point_on_major_axis=pa, end=p2)\n",
    "    e2 = geom.add_ellipse_arc(start=p2, center=pc, point_on_major_axis=pa, end=p3)\n",
    "    e3 = geom.add_ellipse_arc(start=p3, center=pc, point_on_major_axis=pa, end=p4)\n",
    "    e4 = geom.add_ellipse_arc(start=p4, center=pc, point_on_major_axis=pa, end=p1)\n",
    "    outline = geom.add_curve_loop([e1, e2, e3, e4])\n",
    "\n",
    "    # the hole is circumscribed with four elliptic arcs\n",
    "    e1i = geom.add_ellipse_arc(start=p1i, center=pc, point_on_major_axis=pa, end=p2i)\n",
    "    e2i = geom.add_ellipse_arc(start=p2i, center=pc, point_on_major_axis=pa, end=p3i)\n",
    "    e3i = geom.add_ellipse_arc(start=p3i, center=pc, point_on_major_axis=pa, end=p4i)\n",
    "    e4i = geom.add_ellipse_arc(start=p4i, center=pc, point_on_major_axis=pa, end=p1i)\n",
    "    hole = geom.add_curve_loop([e1i,e2i,e3i,e4i])\n",
    "\n",
    "    pl = geom.add_plane_surface(outline, holes=[hole])\n",
    "    \n",
    "    mesh = geom.generate_mesh()"
   ]
  },
  {
   "cell_type": "code",
   "execution_count": 3,
   "metadata": {},
   "outputs": [],
   "source": [
    "# un-stretch\n",
    "pts = np.array([np.array([p[0]/stretch,p[1],0.0]) for p in mesh.points])\n",
    "tris = mesh.cells_dict['triangle']\n",
    "screen = MeshedField(pts,tris)"
   ]
  },
  {
   "cell_type": "markdown",
   "metadata": {},
   "source": [
    "The screen is placed at z=3.625 m from th origin. A beam is assumed to propagate in z direction<br>\n",
    "The fields shall be reflected to th x direction. The screen normal is pointing in the negative z and positive x direction (x - left, y - up)."
   ]
  },
  {
   "cell_type": "code",
   "execution_count": 4,
   "metadata": {},
   "outputs": [],
   "source": [
    "pts = np.array([np.array([p[0],p[1],p[0]])+np.array([0.0,0.0,3.625]) for p in pts])\n",
    "screen = MeshedField(pts,tris)"
   ]
  },
  {
   "cell_type": "code",
   "execution_count": 5,
   "metadata": {},
   "outputs": [
    {
     "data": {
      "text/plain": [
       "<meshio mesh object>\n",
       "  Number of points: 57151\n",
       "  Number of cells:\n",
       "    line: 2336\n",
       "    triangle: 111962\n",
       "    vertex: 10"
      ]
     },
     "execution_count": 5,
     "metadata": {},
     "output_type": "execute_result"
    }
   ],
   "source": [
    "mesh"
   ]
  },
  {
   "cell_type": "code",
   "execution_count": 11,
   "metadata": {},
   "outputs": [
    {
     "name": "stdout",
     "output_type": "stream",
     "text": [
      "57151 points\n",
      "111962 triangles\n",
      "total mesh area = 110.893 cm²\n",
      "screen normal = [ 7.07106781e-01  1.67503047e-18 -7.07106781e-01]\n"
     ]
    }
   ],
   "source": [
    "print(\"%d points\" % len(screen.points))\n",
    "print(\"%d triangles\" % len(screen.triangles))\n",
    "area = screen.MeshArea()\n",
    "normals = screen.MeshNormals()\n",
    "average = np.sum(normals, axis=0)/screen.Np\n",
    "print(\"total mesh area = %7.3f cm²\" % (1.0e4*np.sum(area)))\n",
    "print(\"screen normal = %s\" % average)\n",
    "screen.ShowMeshedField(showAxes=True)"
   ]
  },
  {
   "cell_type": "markdown",
   "metadata": {},
   "source": [
    "### define the timing\n",
    "The beam is assumed to start at t=0. The fields are propagating with c so the expected time a\n",
    "signal arrives at some screen point is z/c."
   ]
  },
  {
   "cell_type": "code",
   "execution_count": 8,
   "metadata": {},
   "outputs": [],
   "source": [
    "# time step\n",
    "screen.dt = 0.5e-13\n",
    "# some time shift of the waveform start\n",
    "delay = 65.0e-12\n",
    "# all points use the same timing grid\n",
    "screen.Nt = 600\n",
    "screen.t0 = np.array([p[2]/constants.c-screen.Nt/2*screen.dt for p in screen.pos])"
   ]
  },
  {
   "cell_type": "markdown",
   "metadata": {},
   "source": [
    "### Write the file\n",
    "It is assumed that the script was started from the scripts directory. The file should be created in the tests folder."
   ]
  },
  {
   "cell_type": "code",
   "execution_count": 9,
   "metadata": {},
   "outputs": [
    {
     "name": "stdout",
     "output_type": "stream",
     "text": [
      "not writing ElMagField dataset\n"
     ]
    }
   ],
   "source": [
    "filename=\"MirrorWithHole.h5\"\n",
    "screen.WriteMeshedField(filename)"
   ]
  },
  {
   "cell_type": "code",
   "execution_count": null,
   "metadata": {},
   "outputs": [],
   "source": []
  }
 ],
 "metadata": {
  "kernelspec": {
   "display_name": "Python 3",
   "language": "python",
   "name": "python3"
  },
  "language_info": {
   "codemirror_mode": {
    "name": "ipython",
    "version": 3
   },
   "file_extension": ".py",
   "mimetype": "text/x-python",
   "name": "python",
   "nbconvert_exporter": "python",
   "pygments_lexer": "ipython3",
   "version": "3.8.10"
  }
 },
 "nbformat": 4,
 "nbformat_minor": 2
}
